{
  "nbformat": 4,
  "nbformat_minor": 0,
  "metadata": {
    "colab": {
      "provenance": [],
      "authorship_tag": "ABX9TyO4RKHK2qaJBUnlWbtaP/1N",
      "include_colab_link": true
    },
    "kernelspec": {
      "name": "python3",
      "display_name": "Python 3"
    },
    "language_info": {
      "name": "python"
    }
  },
  "cells": [
    {
      "cell_type": "markdown",
      "metadata": {
        "id": "view-in-github",
        "colab_type": "text"
      },
      "source": [
        "<a href=\"https://colab.research.google.com/github/qfx4yk/PyTorch/blob/main/PyTorch_Optimization.ipynb\" target=\"_parent\"><img src=\"https://colab.research.google.com/assets/colab-badge.svg\" alt=\"Open In Colab\"/></a>"
      ]
    },
    {
      "cell_type": "markdown",
      "source": [
        "# Introduction to optimization\n",
        "\n",
        "Now that we have a model and data it’s time to train, validate and test our model by optimizing its parameters on our data. Training a model is an iterative process; in each iteration the model makes a guess about the output, calculates the error in its guess (loss), collects the derivatives of the error with respect to its parameters and optimizes these parameters using gradient descent."
      ],
      "metadata": {
        "id": "o8pHyaxCHNER"
      }
    },
    {
      "cell_type": "code",
      "execution_count": 1,
      "metadata": {
        "colab": {
          "base_uri": "https://localhost:8080/"
        },
        "id": "jXWUxAqvHBDz",
        "outputId": "14991f49-3f3d-4709-e64d-945a5f846f80"
      },
      "outputs": [
        {
          "output_type": "stream",
          "name": "stdout",
          "text": [
            "Downloading http://fashion-mnist.s3-website.eu-central-1.amazonaws.com/train-images-idx3-ubyte.gz\n",
            "Downloading http://fashion-mnist.s3-website.eu-central-1.amazonaws.com/train-images-idx3-ubyte.gz to data/FashionMNIST/raw/train-images-idx3-ubyte.gz\n"
          ]
        },
        {
          "output_type": "stream",
          "name": "stderr",
          "text": [
            "100%|██████████| 26.4M/26.4M [00:01<00:00, 13.3MB/s]\n"
          ]
        },
        {
          "output_type": "stream",
          "name": "stdout",
          "text": [
            "Extracting data/FashionMNIST/raw/train-images-idx3-ubyte.gz to data/FashionMNIST/raw\n",
            "\n",
            "Downloading http://fashion-mnist.s3-website.eu-central-1.amazonaws.com/train-labels-idx1-ubyte.gz\n",
            "Downloading http://fashion-mnist.s3-website.eu-central-1.amazonaws.com/train-labels-idx1-ubyte.gz to data/FashionMNIST/raw/train-labels-idx1-ubyte.gz\n"
          ]
        },
        {
          "output_type": "stream",
          "name": "stderr",
          "text": [
            "100%|██████████| 29.5k/29.5k [00:00<00:00, 211kB/s]\n"
          ]
        },
        {
          "output_type": "stream",
          "name": "stdout",
          "text": [
            "Extracting data/FashionMNIST/raw/train-labels-idx1-ubyte.gz to data/FashionMNIST/raw\n",
            "\n",
            "Downloading http://fashion-mnist.s3-website.eu-central-1.amazonaws.com/t10k-images-idx3-ubyte.gz\n",
            "Downloading http://fashion-mnist.s3-website.eu-central-1.amazonaws.com/t10k-images-idx3-ubyte.gz to data/FashionMNIST/raw/t10k-images-idx3-ubyte.gz\n"
          ]
        },
        {
          "output_type": "stream",
          "name": "stderr",
          "text": [
            "100%|██████████| 4.42M/4.42M [00:01<00:00, 3.88MB/s]\n"
          ]
        },
        {
          "output_type": "stream",
          "name": "stdout",
          "text": [
            "Extracting data/FashionMNIST/raw/t10k-images-idx3-ubyte.gz to data/FashionMNIST/raw\n",
            "\n",
            "Downloading http://fashion-mnist.s3-website.eu-central-1.amazonaws.com/t10k-labels-idx1-ubyte.gz\n",
            "Downloading http://fashion-mnist.s3-website.eu-central-1.amazonaws.com/t10k-labels-idx1-ubyte.gz to data/FashionMNIST/raw/t10k-labels-idx1-ubyte.gz\n"
          ]
        },
        {
          "output_type": "stream",
          "name": "stderr",
          "text": [
            "100%|██████████| 5.15k/5.15k [00:00<00:00, 4.50MB/s]"
          ]
        },
        {
          "output_type": "stream",
          "name": "stdout",
          "text": [
            "Extracting data/FashionMNIST/raw/t10k-labels-idx1-ubyte.gz to data/FashionMNIST/raw\n",
            "\n"
          ]
        },
        {
          "output_type": "stream",
          "name": "stderr",
          "text": [
            "\n"
          ]
        }
      ],
      "source": [
        "import torch\n",
        "from torch import nn\n",
        "from torch.utils.data import DataLoader\n",
        "from torchvision import datasets\n",
        "from torchvision.transforms import ToTensor\n",
        "\n",
        "training_data = datasets.FashionMNIST(\n",
        "    root=\"data\",\n",
        "    train=True,\n",
        "    download=True,\n",
        "    transform=ToTensor()\n",
        ")\n",
        "\n",
        "test_data = datasets.FashionMNIST(\n",
        "    root=\"data\",\n",
        "    train=False,\n",
        "    download=True,\n",
        "    transform=ToTensor()\n",
        ")\n",
        "\n",
        "train_dataloader = DataLoader(training_data, batch_size=64)\n",
        "test_dataloader = DataLoader(test_data, batch_size=64)\n",
        "\n",
        "class NeuralNetwork(nn.Module):\n",
        "    def __init__(self):\n",
        "        super().__init__()\n",
        "        self.flatten = nn.Flatten()\n",
        "        self.linear_relu_stack = nn.Sequential(\n",
        "            nn.Linear(28*28, 512),\n",
        "            nn.ReLU(),\n",
        "            nn.Linear(512, 512),\n",
        "            nn.ReLU(),\n",
        "            nn.Linear(512, 10),\n",
        "        )\n",
        "\n",
        "    def forward(self, x):\n",
        "        x = self.flatten(x)\n",
        "        logits = self.linear_relu_stack(x)\n",
        "        return logits\n",
        "\n",
        "model = NeuralNetwork()"
      ]
    },
    {
      "cell_type": "markdown",
      "source": [
        "# Hyperparameters\n",
        "\n",
        "Hyperparameters are adjustable parameters that let you control the model optimization process. Different hyperparameter values can impact model training and convergence rates.\n",
        "\n",
        "We define the following hyperparameters for training:\n",
        "* Number of Epochs - the number times to iterate over the dataset\n",
        "* Batch Size - the number of data samples propagated through the network before the parameters are updated\n",
        "* Learning Rate - how much to update models parameters at each batch/epoch. Smaller values yield slow learning speed, while large values may result in unpredictable behavior during training."
      ],
      "metadata": {
        "id": "-yXVUDPiIN5m"
      }
    },
    {
      "cell_type": "code",
      "source": [
        "learning_rate = 1e-3\n",
        "batch_size = 64\n",
        "epochs = 5"
      ],
      "metadata": {
        "id": "YGSpRbhbIoW9"
      },
      "execution_count": 2,
      "outputs": []
    },
    {
      "cell_type": "markdown",
      "source": [
        "# Optimization Loop\n",
        "\n",
        "Once we set our hyperparameters, we can then train and optimize our model with an optimization loop. Each iteration of the optimization loop is called an epoch.\n",
        "\n",
        "Each epoch consists of two main parts:\n",
        "* The Train Loop - iterate over the training dataset and try to converge to optimal parameters.\n",
        "* The Validation/Test Loop - iterate over the test dataset to check if model performance is improving."
      ],
      "metadata": {
        "id": "wufXgnkUIvSW"
      }
    },
    {
      "cell_type": "markdown",
      "source": [
        "## Loss Function\n",
        "When presented with some training data, our untrained network is likely not to give the correct answer. Loss function measures the degree of dissimilarity of obtained result to the target value, and it is the loss function that we want to minimize during training. To calculate the loss we make a prediction using the inputs of our given data sample and compare it against the true data label value.\n",
        "\n",
        "Common loss functions include nn.MSELoss (Mean Square Error) for regression tasks, and nn.NLLLoss (Negative Log Likelihood) for classification. nn.CrossEntropyLoss combines nn.LogSoftmax and nn.NLLLoss."
      ],
      "metadata": {
        "id": "bgBeiHwwJFoP"
      }
    },
    {
      "cell_type": "code",
      "source": [
        "# Passing our model's output logits to nn.CrossEntropyLoss, which will normalize the logits and compute the prediction error\n",
        "# Initialize the loss function\n",
        "loss_fn = nn.CrossEntropyLoss()"
      ],
      "metadata": {
        "id": "5Fdzw8qkJaNN"
      },
      "execution_count": 3,
      "outputs": []
    },
    {
      "cell_type": "markdown",
      "source": [
        "## Optimizer\n",
        "Optimization is the process of adjusting model parameters to reduce model error in each training step. Optimization algorithms define how this process is performed (in this example we use Stochastic Gradient Descent). All optimization logic is encapsulated in the optimizer object. Here, we use the SGD optimizer. There are many different optimizers in PyTorchsuch as ADAM and RMSProp, that work better for different kinds of models and data."
      ],
      "metadata": {
        "id": "rHj9DNI6JqIF"
      }
    },
    {
      "cell_type": "code",
      "source": [
        "# Initializing the optimizer by registering the model's parameters that need to be trained, and passing in the learning rate hyperparameter\n",
        "optimizer = torch.optim.SGD(model.parameters(), lr=learning_rate)"
      ],
      "metadata": {
        "id": "HXMhXdnSJ9n4"
      },
      "execution_count": 4,
      "outputs": []
    },
    {
      "cell_type": "markdown",
      "source": [
        "Inside the training loop, optimization happens in three steps:\n",
        "* Call optimizer.zero_grad() to reset the gradients of model parameters. Gradients by default add up; to prevent double-counting, we explicitly zero them at each iteration.\n",
        "* Backpropagate the prediction loss with a call to loss.backward(). PyTorch deposits the gradients of the loss w.r.t. each parameter.\n",
        "* Once we have our gradients, we call optimizer.step() to adjust the parameters by the gradients collected in the backward pass."
      ],
      "metadata": {
        "id": "JqnHmfaZKRD-"
      }
    },
    {
      "cell_type": "markdown",
      "source": [
        "# Full Implementation"
      ],
      "metadata": {
        "id": "EbwkmKxCKp1J"
      }
    },
    {
      "cell_type": "code",
      "source": [
        "# train_loop loops over our optimization code;\n",
        "# test_loop evaluates the model's performance against our test data\n",
        "def train_loop(dataloader, model, loss_fn, optimizer):\n",
        "    size = len(dataloader.dataset)\n",
        "    # Set the model to training mode - important for batch normalization and dropout layers\n",
        "    # Unnecessary in this situation but added for best practices\n",
        "    model.train()\n",
        "    for batch, (X, y) in enumerate(dataloader):\n",
        "        # Compute prediction and loss\n",
        "        pred = model(X)\n",
        "        loss = loss_fn(pred, y)\n",
        "\n",
        "        # Backpropagation\n",
        "        loss.backward()\n",
        "        optimizer.step()\n",
        "        optimizer.zero_grad()\n",
        "\n",
        "        if batch % 100 == 0:\n",
        "            loss, current = loss.item(), batch * batch_size + len(X)\n",
        "            print(f\"loss: {loss:>7f}  [{current:>5d}/{size:>5d}]\")\n",
        "\n",
        "\n",
        "def test_loop(dataloader, model, loss_fn):\n",
        "    # Set the model to evaluation mode - important for batch normalization and dropout layers\n",
        "    # Unnecessary in this situation but added for best practices\n",
        "    model.eval()\n",
        "    size = len(dataloader.dataset)\n",
        "    num_batches = len(dataloader)\n",
        "    test_loss, correct = 0, 0\n",
        "\n",
        "    # Evaluating the model with torch.no_grad() ensures that no gradients are computed during test mode\n",
        "    # also serves to reduce unnecessary gradient computations and memory usage for tensors with requires_grad=True\n",
        "    with torch.no_grad():\n",
        "        for X, y in dataloader:\n",
        "            pred = model(X)\n",
        "            test_loss += loss_fn(pred, y).item()\n",
        "            correct += (pred.argmax(1) == y).type(torch.float).sum().item()\n",
        "\n",
        "    test_loss /= num_batches\n",
        "    correct /= size\n",
        "    print(f\"Test Error: \\n Accuracy: {(100*correct):>0.1f}%, Avg loss: {test_loss:>8f} \\n\")"
      ],
      "metadata": {
        "id": "duAzAeeXKs4O"
      },
      "execution_count": 6,
      "outputs": []
    },
    {
      "cell_type": "code",
      "source": [
        "# Initializing the loss function and optimizer, and pass it to train_loop and test_loop\n",
        "loss_fn = nn.CrossEntropyLoss()\n",
        "optimizer = torch.optim.SGD(model.parameters(), lr=learning_rate)\n",
        "\n",
        "epochs = 10\n",
        "for t in range(epochs):\n",
        "    print(f\"Epoch {t+1}\\n-------------------------------\")\n",
        "    train_loop(train_dataloader, model, loss_fn, optimizer)\n",
        "    test_loop(test_dataloader, model, loss_fn)\n",
        "print(\"Done!\")"
      ],
      "metadata": {
        "colab": {
          "base_uri": "https://localhost:8080/"
        },
        "id": "jukQWnpyLPg9",
        "outputId": "ed2f27eb-e7e9-4cc5-d17a-ff09cd716664"
      },
      "execution_count": 7,
      "outputs": [
        {
          "output_type": "stream",
          "name": "stdout",
          "text": [
            "Epoch 1\n",
            "-------------------------------\n",
            "loss: 2.305454  [   64/60000]\n",
            "loss: 2.290999  [ 6464/60000]\n",
            "loss: 2.272406  [12864/60000]\n",
            "loss: 2.258288  [19264/60000]\n",
            "loss: 2.253041  [25664/60000]\n",
            "loss: 2.215337  [32064/60000]\n",
            "loss: 2.220822  [38464/60000]\n",
            "loss: 2.184633  [44864/60000]\n",
            "loss: 2.183237  [51264/60000]\n",
            "loss: 2.142498  [57664/60000]\n",
            "Test Error: \n",
            " Accuracy: 39.9%, Avg loss: 2.144757 \n",
            "\n",
            "Epoch 2\n",
            "-------------------------------\n",
            "loss: 2.158746  [   64/60000]\n",
            "loss: 2.154305  [ 6464/60000]\n",
            "loss: 2.095958  [12864/60000]\n",
            "loss: 2.103175  [19264/60000]\n",
            "loss: 2.069160  [25664/60000]\n",
            "loss: 1.995986  [32064/60000]\n",
            "loss: 2.023507  [38464/60000]\n",
            "loss: 1.945448  [44864/60000]\n",
            "loss: 1.947051  [51264/60000]\n",
            "loss: 1.863548  [57664/60000]\n",
            "Test Error: \n",
            " Accuracy: 60.0%, Avg loss: 1.876993 \n",
            "\n",
            "Epoch 3\n",
            "-------------------------------\n",
            "loss: 1.906782  [   64/60000]\n",
            "loss: 1.888917  [ 6464/60000]\n",
            "loss: 1.769401  [12864/60000]\n",
            "loss: 1.804618  [19264/60000]\n",
            "loss: 1.705304  [25664/60000]\n",
            "loss: 1.649950  [32064/60000]\n",
            "loss: 1.668046  [38464/60000]\n",
            "loss: 1.568520  [44864/60000]\n",
            "loss: 1.592235  [51264/60000]\n",
            "loss: 1.474615  [57664/60000]\n",
            "Test Error: \n",
            " Accuracy: 62.1%, Avg loss: 1.506705 \n",
            "\n",
            "Epoch 4\n",
            "-------------------------------\n",
            "loss: 1.569069  [   64/60000]\n",
            "loss: 1.544967  [ 6464/60000]\n",
            "loss: 1.390248  [12864/60000]\n",
            "loss: 1.463486  [19264/60000]\n",
            "loss: 1.347794  [25664/60000]\n",
            "loss: 1.343728  [32064/60000]\n",
            "loss: 1.360959  [38464/60000]\n",
            "loss: 1.275891  [44864/60000]\n",
            "loss: 1.317913  [51264/60000]\n",
            "loss: 1.212674  [57664/60000]\n",
            "Test Error: \n",
            " Accuracy: 63.8%, Avg loss: 1.243471 \n",
            "\n",
            "Epoch 5\n",
            "-------------------------------\n",
            "loss: 1.317484  [   64/60000]\n",
            "loss: 1.306301  [ 6464/60000]\n",
            "loss: 1.136044  [12864/60000]\n",
            "loss: 1.245883  [19264/60000]\n",
            "loss: 1.124189  [25664/60000]\n",
            "loss: 1.150001  [32064/60000]\n",
            "loss: 1.176812  [38464/60000]\n",
            "loss: 1.098145  [44864/60000]\n",
            "loss: 1.146399  [51264/60000]\n",
            "loss: 1.059866  [57664/60000]\n",
            "Test Error: \n",
            " Accuracy: 65.0%, Avg loss: 1.082248 \n",
            "\n",
            "Epoch 6\n",
            "-------------------------------\n",
            "loss: 1.149974  [   64/60000]\n",
            "loss: 1.158235  [ 6464/60000]\n",
            "loss: 0.972029  [12864/60000]\n",
            "loss: 1.110504  [19264/60000]\n",
            "loss: 0.987477  [25664/60000]\n",
            "loss: 1.018947  [32064/60000]\n",
            "loss: 1.061894  [38464/60000]\n",
            "loss: 0.985148  [44864/60000]\n",
            "loss: 1.033192  [51264/60000]\n",
            "loss: 0.963429  [57664/60000]\n",
            "Test Error: \n",
            " Accuracy: 66.0%, Avg loss: 0.977834 \n",
            "\n",
            "Epoch 7\n",
            "-------------------------------\n",
            "loss: 1.032579  [   64/60000]\n",
            "loss: 1.061954  [ 6464/60000]\n",
            "loss: 0.860103  [12864/60000]\n",
            "loss: 1.019307  [19264/60000]\n",
            "loss: 0.900620  [25664/60000]\n",
            "loss: 0.925440  [32064/60000]\n",
            "loss: 0.985193  [38464/60000]\n",
            "loss: 0.911008  [44864/60000]\n",
            "loss: 0.954201  [51264/60000]\n",
            "loss: 0.897880  [57664/60000]\n",
            "Test Error: \n",
            " Accuracy: 67.2%, Avg loss: 0.906246 \n",
            "\n",
            "Epoch 8\n",
            "-------------------------------\n",
            "loss: 0.945887  [   64/60000]\n",
            "loss: 0.994444  [ 6464/60000]\n",
            "loss: 0.779825  [12864/60000]\n",
            "loss: 0.953949  [19264/60000]\n",
            "loss: 0.842056  [25664/60000]\n",
            "loss: 0.856364  [32064/60000]\n",
            "loss: 0.930244  [38464/60000]\n",
            "loss: 0.860833  [44864/60000]\n",
            "loss: 0.896869  [51264/60000]\n",
            "loss: 0.849916  [57664/60000]\n",
            "Test Error: \n",
            " Accuracy: 68.5%, Avg loss: 0.854307 \n",
            "\n",
            "Epoch 9\n",
            "-------------------------------\n",
            "loss: 0.879000  [   64/60000]\n",
            "loss: 0.943125  [ 6464/60000]\n",
            "loss: 0.719445  [12864/60000]\n",
            "loss: 0.904646  [19264/60000]\n",
            "loss: 0.800091  [25664/60000]\n",
            "loss: 0.804282  [32064/60000]\n",
            "loss: 0.887768  [38464/60000]\n",
            "loss: 0.825620  [44864/60000]\n",
            "loss: 0.853833  [51264/60000]\n",
            "loss: 0.812829  [57664/60000]\n",
            "Test Error: \n",
            " Accuracy: 69.7%, Avg loss: 0.814747 \n",
            "\n",
            "Epoch 10\n",
            "-------------------------------\n",
            "loss: 0.825653  [   64/60000]\n",
            "loss: 0.901376  [ 6464/60000]\n",
            "loss: 0.672341  [12864/60000]\n",
            "loss: 0.866267  [19264/60000]\n",
            "loss: 0.768301  [25664/60000]\n",
            "loss: 0.764157  [32064/60000]\n",
            "loss: 0.853148  [38464/60000]\n",
            "loss: 0.799691  [44864/60000]\n",
            "loss: 0.820627  [51264/60000]\n",
            "loss: 0.782941  [57664/60000]\n",
            "Test Error: \n",
            " Accuracy: 70.9%, Avg loss: 0.783224 \n",
            "\n",
            "Done!\n"
          ]
        }
      ]
    }
  ]
}