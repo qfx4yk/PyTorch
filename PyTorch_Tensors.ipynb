{
  "nbformat": 4,
  "nbformat_minor": 0,
  "metadata": {
    "colab": {
      "provenance": [],
      "gpuType": "T4",
      "authorship_tag": "ABX9TyOYUapOqZQ5hgsmEGColeqZ",
      "include_colab_link": true
    },
    "kernelspec": {
      "name": "python3",
      "display_name": "Python 3"
    },
    "language_info": {
      "name": "python"
    }
  },
  "cells": [
    {
      "cell_type": "markdown",
      "metadata": {
        "id": "view-in-github",
        "colab_type": "text"
      },
      "source": [
        "<a href=\"https://colab.research.google.com/github/qfx4yk/PyTorch/blob/main/PyTorch_Tensors.ipynb\" target=\"_parent\"><img src=\"https://colab.research.google.com/assets/colab-badge.svg\" alt=\"Open In Colab\"/></a>"
      ]
    },
    {
      "cell_type": "code",
      "execution_count": 1,
      "metadata": {
        "id": "9sgGqCWEEcqQ"
      },
      "outputs": [],
      "source": [
        "import torch\n",
        "import numpy as np\n",
        "import math"
      ]
    },
    {
      "cell_type": "markdown",
      "source": [
        "# Initializing a Tensor\n",
        "\n",
        "A tensor is a multidimensional arra containing floating-point, integer, or boolean data."
      ],
      "metadata": {
        "id": "XyYVmEB1I79X"
      }
    },
    {
      "cell_type": "code",
      "source": [
        "# Simplest way to create a tensor in which you do not initialize it with values\n",
        "x = torch.empty(3, 4) # 3 x 4 tensor; 2D with 3 rows and 4 columns\n",
        "print(type(x)) # object type = torch.Tensor, which is alias for torch.FloatTensor\n",
        "print(x)"
      ],
      "metadata": {
        "colab": {
          "base_uri": "https://localhost:8080/"
        },
        "id": "359zhqWsyqXk",
        "outputId": "60801843-6bed-40f0-f9fd-79e82f3e8927"
      },
      "execution_count": 2,
      "outputs": [
        {
          "output_type": "stream",
          "name": "stdout",
          "text": [
            "<class 'torch.Tensor'>\n",
            "tensor([[-2.8014e+21,  3.3215e-41,  0.0000e+00,  0.0000e+00],\n",
            "        [ 4.2039e-45,  1.5414e-44,  4.2039e-45,  1.6816e-44],\n",
            "        [ 1.6241e-42,  0.0000e+00, -2.8014e+21,  3.3215e-41]])\n"
          ]
        }
      ]
    },
    {
      "cell_type": "code",
      "source": [
        "# Initializing your tensor with some value (e.g. all zeros, all ones, or random values)\n",
        "zeros = torch.zeros(2, 3)\n",
        "print(zeros)\n",
        "\n",
        "ones = torch.ones(2, 3)\n",
        "print(ones)\n",
        "\n",
        "torch.manual_seed(1)\n",
        "random = torch.rand(2, 3)\n",
        "print(random)"
      ],
      "metadata": {
        "colab": {
          "base_uri": "https://localhost:8080/"
        },
        "id": "3bNugyOY3qMB",
        "outputId": "16e847ab-21cc-4c14-c8a9-af801fae0fb5"
      },
      "execution_count": 3,
      "outputs": [
        {
          "output_type": "stream",
          "name": "stdout",
          "text": [
            "tensor([[0., 0., 0.],\n",
            "        [0., 0., 0.]])\n",
            "tensor([[1., 1., 1.],\n",
            "        [1., 1., 1.]])\n",
            "tensor([[0.7576, 0.2793, 0.4031],\n",
            "        [0.7347, 0.0293, 0.7999]])\n"
          ]
        }
      ]
    },
    {
      "cell_type": "code",
      "source": [
        "# Creating a 6x4 matrix filled with zeros, and query its datatype to find out that the zeros are 32-bit floating point numbers, which is the default PyTorch\n",
        "z = torch.zeros(6,4)\n",
        "print(z)\n",
        "print(z.dtype)"
      ],
      "metadata": {
        "colab": {
          "base_uri": "https://localhost:8080/"
        },
        "id": "iBSEUNipbDk4",
        "outputId": "4813c651-528a-4d2d-cf22-1bc4ee3b92cb"
      },
      "execution_count": 4,
      "outputs": [
        {
          "output_type": "stream",
          "name": "stdout",
          "text": [
            "tensor([[0., 0., 0., 0.],\n",
            "        [0., 0., 0., 0.],\n",
            "        [0., 0., 0., 0.],\n",
            "        [0., 0., 0., 0.],\n",
            "        [0., 0., 0., 0.],\n",
            "        [0., 0., 0., 0.]])\n",
            "torch.float32\n"
          ]
        }
      ]
    },
    {
      "cell_type": "code",
      "source": [
        "# Creating a 6x4 matrix filled with ones expressed as integers\n",
        "L = torch.ones((6,4), dtype=torch.int32)\n",
        "print(L)\n",
        "print(L.dtype) # You see that when we do change/override the default, the tensor helpfully reports this when printed"
      ],
      "metadata": {
        "colab": {
          "base_uri": "https://localhost:8080/"
        },
        "id": "Qs2JGVBebnU5",
        "outputId": "2174569e-563c-4c76-e78a-e58c3cabedd6"
      },
      "execution_count": 5,
      "outputs": [
        {
          "output_type": "stream",
          "name": "stdout",
          "text": [
            "tensor([[1, 1, 1, 1],\n",
            "        [1, 1, 1, 1],\n",
            "        [1, 1, 1, 1],\n",
            "        [1, 1, 1, 1],\n",
            "        [1, 1, 1, 1],\n",
            "        [1, 1, 1, 1]], dtype=torch.int32)\n",
            "torch.int32\n"
          ]
        }
      ]
    },
    {
      "cell_type": "code",
      "source": [
        "# Tensors can be created directly from data. The data type is automatically inferred\n",
        "data = [[1, 2],[3, 4]]\n",
        "x_data = torch.tensor(data)\n",
        "x_data"
      ],
      "metadata": {
        "colab": {
          "base_uri": "https://localhost:8080/"
        },
        "id": "rScvaZ8cE95o",
        "outputId": "7435bcfd-b8e5-42aa-e272-038c23ebe4d8"
      },
      "execution_count": 6,
      "outputs": [
        {
          "output_type": "execute_result",
          "data": {
            "text/plain": [
              "tensor([[1, 2],\n",
              "        [3, 4]])"
            ]
          },
          "metadata": {},
          "execution_count": 6
        }
      ]
    },
    {
      "cell_type": "code",
      "source": [
        "# Tensors can be created from NumPy arrays and vice versa\n",
        "np_array = np.array(data)\n",
        "x_np = torch.from_numpy(np_array)\n",
        "x_np"
      ],
      "metadata": {
        "colab": {
          "base_uri": "https://localhost:8080/"
        },
        "id": "e_sRaTJaFTno",
        "outputId": "903b36ca-ba6c-42fe-e8af-4956ecdda47a"
      },
      "execution_count": 7,
      "outputs": [
        {
          "output_type": "execute_result",
          "data": {
            "text/plain": [
              "tensor([[1, 2],\n",
              "        [3, 4]])"
            ]
          },
          "metadata": {},
          "execution_count": 7
        }
      ]
    },
    {
      "cell_type": "code",
      "source": [
        "# Tensors can be created from another tensor. The new tensor retains the properties (shape, datatype) of the arguement tensor, unless explicitly overriden\n",
        "x_ones = torch.ones_like(x_data) # retains the properties of x_data\n",
        "print(f\"Ones Tensor: \\n {x_ones} \\n\")\n",
        "\n",
        "x_rand = torch.rand_like(x_data, dtype=torch.float) # overrides the datatype of x_data\n",
        "print(f\"Random Tensor: \\n {x_rand} \\n\")"
      ],
      "metadata": {
        "colab": {
          "base_uri": "https://localhost:8080/"
        },
        "id": "c1dYbBlwGTIo",
        "outputId": "9b94cf7f-1ddc-47e7-869e-64dea76241b8"
      },
      "execution_count": 8,
      "outputs": [
        {
          "output_type": "stream",
          "name": "stdout",
          "text": [
            "Ones Tensor: \n",
            " tensor([[1, 1],\n",
            "        [1, 1]]) \n",
            "\n",
            "Random Tensor: \n",
            " tensor([[0.3971, 0.7544],\n",
            "        [0.5695, 0.4388]]) \n",
            "\n"
          ]
        }
      ]
    },
    {
      "cell_type": "code",
      "source": [
        "# \"shape\" is a tuple of tensor dimensions. In the functions below, it determines the dimensionality of the output tensor\n",
        "shape = (2,3,4,1)\n",
        "rand_tensor = torch.rand(shape)\n",
        "ones_tensor = torch.ones(shape)\n",
        "zeros_tensor = torch.zeros(shape)\n",
        "\n",
        "print(f\"Random Tensor: \\n {rand_tensor} \\n\")\n",
        "print(f\"Ones Tensor: \\n {ones_tensor} \\n\")\n",
        "print(f\"Zeros Tensor: \\n {zeros_tensor}\")"
      ],
      "metadata": {
        "colab": {
          "base_uri": "https://localhost:8080/"
        },
        "id": "xO7kPMpUH2Eo",
        "outputId": "e5212b79-61fd-4201-8d35-f1ca6f964ab6"
      },
      "execution_count": 9,
      "outputs": [
        {
          "output_type": "stream",
          "name": "stdout",
          "text": [
            "Random Tensor: \n",
            " tensor([[[[0.6387],\n",
            "          [0.5247],\n",
            "          [0.6826],\n",
            "          [0.3051]],\n",
            "\n",
            "         [[0.4635],\n",
            "          [0.4550],\n",
            "          [0.5725],\n",
            "          [0.4980]],\n",
            "\n",
            "         [[0.9371],\n",
            "          [0.6556],\n",
            "          [0.3138],\n",
            "          [0.1980]]],\n",
            "\n",
            "\n",
            "        [[[0.4162],\n",
            "          [0.2843],\n",
            "          [0.3398],\n",
            "          [0.5239]],\n",
            "\n",
            "         [[0.7981],\n",
            "          [0.7718],\n",
            "          [0.0112],\n",
            "          [0.8100]],\n",
            "\n",
            "         [[0.6397],\n",
            "          [0.9743],\n",
            "          [0.8300],\n",
            "          [0.0444]]]]) \n",
            "\n",
            "Ones Tensor: \n",
            " tensor([[[[1.],\n",
            "          [1.],\n",
            "          [1.],\n",
            "          [1.]],\n",
            "\n",
            "         [[1.],\n",
            "          [1.],\n",
            "          [1.],\n",
            "          [1.]],\n",
            "\n",
            "         [[1.],\n",
            "          [1.],\n",
            "          [1.],\n",
            "          [1.]]],\n",
            "\n",
            "\n",
            "        [[[1.],\n",
            "          [1.],\n",
            "          [1.],\n",
            "          [1.]],\n",
            "\n",
            "         [[1.],\n",
            "          [1.],\n",
            "          [1.],\n",
            "          [1.]],\n",
            "\n",
            "         [[1.],\n",
            "          [1.],\n",
            "          [1.],\n",
            "          [1.]]]]) \n",
            "\n",
            "Zeros Tensor: \n",
            " tensor([[[[0.],\n",
            "          [0.],\n",
            "          [0.],\n",
            "          [0.]],\n",
            "\n",
            "         [[0.],\n",
            "          [0.],\n",
            "          [0.],\n",
            "          [0.]],\n",
            "\n",
            "         [[0.],\n",
            "          [0.],\n",
            "          [0.],\n",
            "          [0.]]],\n",
            "\n",
            "\n",
            "        [[[0.],\n",
            "          [0.],\n",
            "          [0.],\n",
            "          [0.]],\n",
            "\n",
            "         [[0.],\n",
            "          [0.],\n",
            "          [0.],\n",
            "          [0.]],\n",
            "\n",
            "         [[0.],\n",
            "          [0.],\n",
            "          [0.],\n",
            "          [0.]]]])\n"
          ]
        }
      ]
    },
    {
      "cell_type": "markdown",
      "source": [
        "## Random Tensors and Seeding"
      ],
      "metadata": {
        "id": "vQ-302Fy40PN"
      }
    },
    {
      "cell_type": "markdown",
      "source": [
        "Initializing tensors, such as a model’s learning weights, with random values is common but there are times - especially in research settings - where you’ll want some assurance of the reproducibility of your results. Manually setting your random number generator’s seed is the way to do this."
      ],
      "metadata": {
        "id": "RkKt2V9J47Jz"
      }
    },
    {
      "cell_type": "code",
      "source": [
        "# It is common to initialize learning weights randomly, often with a specific seed for the random number generators that you can reproduce your results on subsequent runs\n",
        "torch.manual_seed(1729) # here, we seed the pytorch random number generator with a specific number to generate a random tensor\n",
        "r1 = torch.rand(2,2)\n",
        "print('A random tensor:')\n",
        "print(r1)\n",
        "\n",
        "r2 = torch.rand(2,2)\n",
        "print('\\nA different random tensor:')\n",
        "print(r2) # new values\n",
        "\n",
        "torch.manual_seed(1729) # re-seeding random number generator with same input\n",
        "r3 = torch.rand(2,2)\n",
        "print('\\nShould match r1:')\n",
        "print(r3) # repeats values of r1 because of re-seed"
      ],
      "metadata": {
        "colab": {
          "base_uri": "https://localhost:8080/"
        },
        "id": "1QWFWiYtc67p",
        "outputId": "5e1f5c9e-92b3-4bea-dc71-24d1fe46713c"
      },
      "execution_count": 10,
      "outputs": [
        {
          "output_type": "stream",
          "name": "stdout",
          "text": [
            "A random tensor:\n",
            "tensor([[0.3126, 0.3791],\n",
            "        [0.3087, 0.0736]])\n",
            "\n",
            "A different random tensor:\n",
            "tensor([[0.4216, 0.0691],\n",
            "        [0.2332, 0.4047]])\n",
            "\n",
            "Should match r1:\n",
            "tensor([[0.3126, 0.3791],\n",
            "        [0.3087, 0.0736]])\n"
          ]
        }
      ]
    },
    {
      "cell_type": "code",
      "source": [
        "# Another seeding example\n",
        "# Manually setting the RNG’s seed resets it, so that identical computations depending on random numbers should, in most settings, provide identical results.\n",
        "torch.manual_seed(1729)\n",
        "random1 = torch.rand(2, 3)\n",
        "print(random1)\n",
        "\n",
        "random2 = torch.rand(2, 3)\n",
        "print(random2)\n",
        "\n",
        "torch.manual_seed(1729)\n",
        "random3 = torch.rand(2, 3) # matches random1\n",
        "print(random3)\n",
        "\n",
        "random4 = torch.rand(2, 3) # matches random2\n",
        "print(random4)\n",
        "\n",
        "random5 = torch.rand(2,3)\n",
        "print(random5)\n",
        "\n",
        "torch.manual_seed(1729)\n",
        "random6 = torch.rand(2,3)\n",
        "print(random6)\n",
        "\n",
        "random7 = torch.rand(2,3)\n",
        "print(random7)"
      ],
      "metadata": {
        "colab": {
          "base_uri": "https://localhost:8080/"
        },
        "id": "eWr8TyCD5Fsj",
        "outputId": "9109846f-6320-428b-b0d9-17f68df28d04"
      },
      "execution_count": 11,
      "outputs": [
        {
          "output_type": "stream",
          "name": "stdout",
          "text": [
            "tensor([[0.3126, 0.3791, 0.3087],\n",
            "        [0.0736, 0.4216, 0.0691]])\n",
            "tensor([[0.2332, 0.4047, 0.2162],\n",
            "        [0.9927, 0.4128, 0.5938]])\n",
            "tensor([[0.3126, 0.3791, 0.3087],\n",
            "        [0.0736, 0.4216, 0.0691]])\n",
            "tensor([[0.2332, 0.4047, 0.2162],\n",
            "        [0.9927, 0.4128, 0.5938]])\n",
            "tensor([[0.6128, 0.1519, 0.0453],\n",
            "        [0.5035, 0.9978, 0.3884]])\n",
            "tensor([[0.3126, 0.3791, 0.3087],\n",
            "        [0.0736, 0.4216, 0.0691]])\n",
            "tensor([[0.2332, 0.4047, 0.2162],\n",
            "        [0.9927, 0.4128, 0.5938]])\n"
          ]
        }
      ]
    },
    {
      "cell_type": "markdown",
      "source": [
        "## Tensor Shapes\n",
        "\n",
        "Often, when you’re performing operations on two or more tensors, they will need to be of the same shape - that is, having the same number of dimensions and the same number of cells in each dimension."
      ],
      "metadata": {
        "id": "Ex1lppOoBSBF"
      }
    },
    {
      "cell_type": "code",
      "source": [
        "x = torch.empty(2, 2, 3)\n",
        "print(x.shape)\n",
        "print(x)\n",
        "\n",
        "empty_like_x = torch.empty_like(x)\n",
        "print(empty_like_x.shape)\n",
        "print(empty_like_x)\n",
        "\n",
        "zeros_like_x = torch.zeros_like(x)\n",
        "print(zeros_like_x.shape)\n",
        "print(zeros_like_x)\n",
        "\n",
        "ones_like_x = torch.ones_like(x)\n",
        "print(ones_like_x.shape)\n",
        "print(ones_like_x)\n",
        "\n",
        "rand_like_x = torch.rand_like(x)\n",
        "print(rand_like_x.shape)\n",
        "print(rand_like_x)"
      ],
      "metadata": {
        "colab": {
          "base_uri": "https://localhost:8080/"
        },
        "id": "Vtl70dOVBV5U",
        "outputId": "7df62424-2e1c-41e5-caa8-c1a39d534eb2"
      },
      "execution_count": 12,
      "outputs": [
        {
          "output_type": "stream",
          "name": "stdout",
          "text": [
            "torch.Size([2, 2, 3])\n",
            "tensor([[[-2.8043e+21,  3.3215e-41, -2.8049e+21],\n",
            "         [ 3.3215e-41,  8.9683e-44,  0.0000e+00]],\n",
            "\n",
            "        [[ 1.1210e-43,  0.0000e+00,  1.7970e-13],\n",
            "         [ 3.3208e-41, -3.2806e+21,  3.3215e-41]]])\n",
            "torch.Size([2, 2, 3])\n",
            "tensor([[[ 2.0445e-13,  3.3208e-41,  0.0000e+00],\n",
            "         [ 2.3510e-38, -2.1867e+18,  3.3215e-41]],\n",
            "\n",
            "        [[ 1.0842e-19,  0.0000e+00,  4.7399e+16],\n",
            "         [ 9.3233e-09,  8.0671e+17,  5.7453e-44]]])\n",
            "torch.Size([2, 2, 3])\n",
            "tensor([[[0., 0., 0.],\n",
            "         [0., 0., 0.]],\n",
            "\n",
            "        [[0., 0., 0.],\n",
            "         [0., 0., 0.]]])\n",
            "torch.Size([2, 2, 3])\n",
            "tensor([[[1., 1., 1.],\n",
            "         [1., 1., 1.]],\n",
            "\n",
            "        [[1., 1., 1.],\n",
            "         [1., 1., 1.]]])\n",
            "torch.Size([2, 2, 3])\n",
            "tensor([[[0.6128, 0.1519, 0.0453],\n",
            "         [0.5035, 0.9978, 0.3884]],\n",
            "\n",
            "        [[0.6929, 0.1703, 0.1384],\n",
            "         [0.4759, 0.7481, 0.0361]]])\n"
          ]
        }
      ]
    },
    {
      "cell_type": "markdown",
      "source": [
        "# Attributes of a Tensor"
      ],
      "metadata": {
        "id": "loq-mmwLI2FR"
      }
    },
    {
      "cell_type": "code",
      "source": [
        "# Tensor attributes describe their shape, datatype, and the device on which they are stored\n",
        "tensor = torch.rand(2,6)\n",
        "\n",
        "print(f\"Here is my tensor: {tensor}\")\n",
        "print(f\"Shape of tensor: {tensor.shape}\")\n",
        "print(f\"Datatype of tensor: {tensor.dtype}\")\n",
        "print(f\"Device tensor is stored on: {tensor.device}\")"
      ],
      "metadata": {
        "colab": {
          "base_uri": "https://localhost:8080/"
        },
        "id": "YrXRQxzvJC2w",
        "outputId": "809b2daf-ab64-4ccd-bbbe-362003e7cada"
      },
      "execution_count": 13,
      "outputs": [
        {
          "output_type": "stream",
          "name": "stdout",
          "text": [
            "Here is my tensor: tensor([[0.5062, 0.8469, 0.2588, 0.2707, 0.4115, 0.6839],\n",
            "        [0.0703, 0.5105, 0.9451, 0.2359, 0.1979, 0.3327]])\n",
            "Shape of tensor: torch.Size([2, 6])\n",
            "Datatype of tensor: torch.float32\n",
            "Device tensor is stored on: cpu\n"
          ]
        }
      ]
    },
    {
      "cell_type": "markdown",
      "source": [
        "# Operations on Tensors\n",
        "\n",
        "PyTorch tensors peform arithmetic operations intuitively. Tensors of similar shapes may be added, multipled, etc. Operations with scalars are distributed over the tensor."
      ],
      "metadata": {
        "id": "rpQ71C_OLXcx"
      }
    },
    {
      "cell_type": "code",
      "source": [
        "ones = torch.ones(2,3)\n",
        "print(ones)\n",
        "\n",
        "twos = ones * 2 # every element is multipled by 2\n",
        "print(twos)\n",
        "\n",
        "threes = ones + twos # addition allowed because shapes are similar\n",
        "print(threes) # tensors are added element-wise\n",
        "print(threes.shape) # this has the same dimensions as input tensors\n",
        "\n",
        "# Code below results in runtime error because there is no clean way to do element-wise arithmetic operations between two tensors of different shapes\n",
        "# a1 = torch.rand(2,3)\n",
        "# a2 = torch.rand(3,2)\n",
        "# a3 = a1 + a2"
      ],
      "metadata": {
        "colab": {
          "base_uri": "https://localhost:8080/"
        },
        "id": "9KIP1rnXeE_J",
        "outputId": "a673ee95-244b-4f86-83d2-08b05b8e4e2e"
      },
      "execution_count": 14,
      "outputs": [
        {
          "output_type": "stream",
          "name": "stdout",
          "text": [
            "tensor([[1., 1., 1.],\n",
            "        [1., 1., 1.]])\n",
            "tensor([[2., 2., 2.],\n",
            "        [2., 2., 2.]])\n",
            "tensor([[3., 3., 3.],\n",
            "        [3., 3., 3.]])\n",
            "torch.Size([2, 3])\n"
          ]
        }
      ]
    },
    {
      "cell_type": "code",
      "source": [
        "# Here is a small sample of the mathematical operations available on PyTorch tensors:\n",
        "b = torch.rand(2,2) - 0.5 * 2 # values between -1 and 1\n",
        "print('A random matrix, b: ')\n",
        "print(b)\n",
        "\n",
        "# Common mathematical operations are supported:\n",
        "print('\\nAbsolute value of b:')\n",
        "print(torch.abs(b))\n",
        "\n",
        "# Trigonometric functions\n",
        "print('\\nInverse sine of b:')\n",
        "print(torch.asin(b))\n",
        "\n",
        "# Linear algebra operations like determinant and singular value decomposition\n",
        "print('\\nDeterminant of b:')\n",
        "print(torch.det(b))\n",
        "print('\\nSingular value decomposition of b:')\n",
        "print(torch.svd(b))\n",
        "\n",
        "# Statistical and aggregate operations\n",
        "print('\\nAverage and standard deviation of b:')\n",
        "print(torch.std_mean(b))\n",
        "print('\\nMaximum value of b:')\n",
        "print(torch.max(b))"
      ],
      "metadata": {
        "colab": {
          "base_uri": "https://localhost:8080/"
        },
        "id": "6oTnbNPNf0op",
        "outputId": "28b11e26-6d6d-4f2f-d438-e2a0c3890a18"
      },
      "execution_count": 15,
      "outputs": [
        {
          "output_type": "stream",
          "name": "stdout",
          "text": [
            "A random matrix, b: \n",
            "tensor([[-0.3854, -0.4001],\n",
            "        [-0.4987, -0.0603]])\n",
            "\n",
            "Absolute value of b:\n",
            "tensor([[0.3854, 0.4001],\n",
            "        [0.4987, 0.0603]])\n",
            "\n",
            "Inverse sine of b:\n",
            "tensor([[-0.3957, -0.4116],\n",
            "        [-0.5221, -0.0604]])\n",
            "\n",
            "Determinant of b:\n",
            "tensor(-0.1763)\n",
            "\n",
            "Singular value decomposition of b:\n",
            "torch.return_types.svd(\n",
            "U=tensor([[-0.7514, -0.6599],\n",
            "        [-0.6599,  0.7514]]),\n",
            "S=tensor([0.7062, 0.2496]),\n",
            "V=tensor([[ 0.8761, -0.4821],\n",
            "        [ 0.4821,  0.8761]]))\n",
            "\n",
            "Average and standard deviation of b:\n",
            "(tensor(0.1906), tensor(-0.3361))\n",
            "\n",
            "Maximum value of b:\n",
            "tensor(-0.0603)\n"
          ]
        }
      ]
    },
    {
      "cell_type": "code",
      "source": [
        "# We move our tensor to the GPU if available\n",
        "if torch.cuda.is_available():\n",
        "  tensor = tensor.to('cuda')\n",
        "\n",
        "tensor.device"
      ],
      "metadata": {
        "colab": {
          "base_uri": "https://localhost:8080/"
        },
        "id": "S0cGH1idLayg",
        "outputId": "c805ee2f-b162-48b1-bf5c-8a32e98087dc"
      },
      "execution_count": 16,
      "outputs": [
        {
          "output_type": "execute_result",
          "data": {
            "text/plain": [
              "device(type='cpu')"
            ]
          },
          "metadata": {},
          "execution_count": 16
        }
      ]
    },
    {
      "cell_type": "code",
      "source": [
        "# Standard numpy-like indexing and slicing\n",
        "tensor = torch.rand(4, 4)\n",
        "print('First row: ',tensor[0])\n",
        "print('First column: ', tensor[:, 0])\n",
        "print('Last column:', tensor[..., -1])\n",
        "tensor[:,1] = 0\n",
        "print(tensor)"
      ],
      "metadata": {
        "colab": {
          "base_uri": "https://localhost:8080/"
        },
        "id": "tKrX-LgONxMI",
        "outputId": "d4821408-5a07-4249-f66d-31f62ab1c2ad"
      },
      "execution_count": 17,
      "outputs": [
        {
          "output_type": "stream",
          "name": "stdout",
          "text": [
            "First row:  tensor([0.8656, 0.5207, 0.6865, 0.3614])\n",
            "First column:  tensor([0.8656, 0.6493, 0.2024, 0.7301])\n",
            "Last column: tensor([0.3614, 0.0548, 0.4067, 0.0381])\n",
            "tensor([[0.8656, 0.0000, 0.6865, 0.3614],\n",
            "        [0.6493, 0.0000, 0.4762, 0.0548],\n",
            "        [0.2024, 0.0000, 0.7191, 0.4067],\n",
            "        [0.7301, 0.0000, 0.7357, 0.0381]])\n"
          ]
        }
      ]
    },
    {
      "cell_type": "code",
      "source": [
        "# You can use torch.cat to concatenate a sequence of tensors along a given dimension\n",
        "t1 = torch.cat([tensor, tensor, tensor], dim=1)\n",
        "print(t1)"
      ],
      "metadata": {
        "colab": {
          "base_uri": "https://localhost:8080/"
        },
        "id": "iSQoE9h9P4XI",
        "outputId": "ab5b5210-f2dc-4f6e-835e-4c50ad8e0c05"
      },
      "execution_count": 18,
      "outputs": [
        {
          "output_type": "stream",
          "name": "stdout",
          "text": [
            "tensor([[0.8656, 0.0000, 0.6865, 0.3614, 0.8656, 0.0000, 0.6865, 0.3614, 0.8656,\n",
            "         0.0000, 0.6865, 0.3614],\n",
            "        [0.6493, 0.0000, 0.4762, 0.0548, 0.6493, 0.0000, 0.4762, 0.0548, 0.6493,\n",
            "         0.0000, 0.4762, 0.0548],\n",
            "        [0.2024, 0.0000, 0.7191, 0.4067, 0.2024, 0.0000, 0.7191, 0.4067, 0.2024,\n",
            "         0.0000, 0.7191, 0.4067],\n",
            "        [0.7301, 0.0000, 0.7357, 0.0381, 0.7301, 0.0000, 0.7357, 0.0381, 0.7301,\n",
            "         0.0000, 0.7357, 0.0381]])\n"
          ]
        }
      ]
    },
    {
      "cell_type": "code",
      "source": [
        "# This computes the matrix multiplication between two tensors. y1, y2, y3 will have the same value\n",
        "y1 = tensor @ tensor.T\n",
        "y2 = tensor.matmul(tensor.T)\n",
        "\n",
        "y3 = torch.rand_like(tensor)\n",
        "torch.matmul(tensor, tensor.T, out=y3)"
      ],
      "metadata": {
        "colab": {
          "base_uri": "https://localhost:8080/"
        },
        "id": "hhhYxGKaRwCB",
        "outputId": "bcd4ca92-d9a0-4f8d-881c-53866fef4d94"
      },
      "execution_count": 19,
      "outputs": [
        {
          "output_type": "execute_result",
          "data": {
            "text/plain": [
              "tensor([[1.3511, 0.9088, 0.8159, 1.1508],\n",
              "        [0.9088, 0.6514, 0.4962, 0.8265],\n",
              "        [0.8159, 0.4962, 0.7235, 0.6924],\n",
              "        [1.1508, 0.8265, 0.6924, 1.0758]])"
            ]
          },
          "metadata": {},
          "execution_count": 19
        }
      ]
    },
    {
      "cell_type": "code",
      "source": [
        "# This computes the element-wise product. z1, z2, z3 will have the same value\n",
        "z1 = tensor * tensor\n",
        "z2 = tensor.mul(tensor)\n",
        "\n",
        "z3 = torch.rand_like(tensor)\n",
        "torch.mul(tensor, tensor, out=z3)"
      ],
      "metadata": {
        "colab": {
          "base_uri": "https://localhost:8080/"
        },
        "id": "0BJemnXjU3Ep",
        "outputId": "7c5abd68-a2e4-4056-a1e4-4494923f81ca"
      },
      "execution_count": 20,
      "outputs": [
        {
          "output_type": "execute_result",
          "data": {
            "text/plain": [
              "tensor([[0.7493, 0.0000, 0.4713, 0.1306],\n",
              "        [0.4216, 0.0000, 0.2268, 0.0030],\n",
              "        [0.0410, 0.0000, 0.5171, 0.1654],\n",
              "        [0.5331, 0.0000, 0.5413, 0.0015]])"
            ]
          },
          "metadata": {},
          "execution_count": 20
        }
      ]
    },
    {
      "cell_type": "markdown",
      "source": [
        "**Useful source to understand matrix multiplication: [matrixmultiplication.xyz](http://matrixmultiplication.xyz/)**\n",
        "\n"
      ],
      "metadata": {
        "id": "3xBfuGT9YlPY"
      }
    },
    {
      "cell_type": "code",
      "source": [
        "# If you have a one-element tensor, for example by aggregating all values of a tensor into one value, you can convert it to a Python numerical value using item()\n",
        "agg = tensor.sum()\n",
        "agg_item = agg.item()\n",
        "print(agg_item, type(agg_item))"
      ],
      "metadata": {
        "colab": {
          "base_uri": "https://localhost:8080/"
        },
        "id": "RhgRXoBaYyV4",
        "outputId": "f2b1116c-be6f-461f-a867-5152d3d26b8e"
      },
      "execution_count": 21,
      "outputs": [
        {
          "output_type": "stream",
          "name": "stdout",
          "text": [
            "5.92598819732666 <class 'float'>\n"
          ]
        }
      ]
    },
    {
      "cell_type": "code",
      "source": [
        "# Operations that store the result into the operand are called in-place\n",
        "print(tensor, \"\\n\")\n",
        "tensor.add_(5)\n",
        "print(tensor)"
      ],
      "metadata": {
        "colab": {
          "base_uri": "https://localhost:8080/"
        },
        "id": "dQrOLbJJbN-Y",
        "outputId": "d6654a3c-5342-4685-bd29-c94cd36bf27c"
      },
      "execution_count": 22,
      "outputs": [
        {
          "output_type": "stream",
          "name": "stdout",
          "text": [
            "tensor([[0.8656, 0.0000, 0.6865, 0.3614],\n",
            "        [0.6493, 0.0000, 0.4762, 0.0548],\n",
            "        [0.2024, 0.0000, 0.7191, 0.4067],\n",
            "        [0.7301, 0.0000, 0.7357, 0.0381]]) \n",
            "\n",
            "tensor([[5.8656, 5.0000, 5.6865, 5.3614],\n",
            "        [5.6493, 5.0000, 5.4762, 5.0548],\n",
            "        [5.2024, 5.0000, 5.7191, 5.4067],\n",
            "        [5.7301, 5.0000, 5.7357, 5.0381]])\n"
          ]
        }
      ]
    },
    {
      "cell_type": "markdown",
      "source": [
        "**Note: In-place operations save some memory, but can be problematic when computing derivatives because of an immediate loss of history. Hence, their use is discouraged.**"
      ],
      "metadata": {
        "id": "eHhTMFYob1Sh"
      }
    },
    {
      "cell_type": "markdown",
      "source": [
        "# Bridge with NumPy"
      ],
      "metadata": {
        "id": "3yHoRl55cJPi"
      }
    },
    {
      "cell_type": "code",
      "source": [
        "# Tensor to NumPy array\n",
        "t = torch.ones(10)\n",
        "print(f\"t: {t}\")\n",
        "n = t.numpy()\n",
        "print(f\"n: {n}\")"
      ],
      "metadata": {
        "colab": {
          "base_uri": "https://localhost:8080/"
        },
        "id": "jb1toDkDb7Wg",
        "outputId": "1d90a6cf-cf42-4846-8309-e23e01b90379"
      },
      "execution_count": 23,
      "outputs": [
        {
          "output_type": "stream",
          "name": "stdout",
          "text": [
            "t: tensor([1., 1., 1., 1., 1., 1., 1., 1., 1., 1.])\n",
            "n: [1. 1. 1. 1. 1. 1. 1. 1. 1. 1.]\n"
          ]
        }
      ]
    },
    {
      "cell_type": "code",
      "source": [
        "# A change in the tensor reflects in the NumPy array\n",
        "t.add_(1)\n",
        "print(f\"t: {t}\")\n",
        "print(f\"n: {n}\")"
      ],
      "metadata": {
        "colab": {
          "base_uri": "https://localhost:8080/"
        },
        "id": "ASE9xKQ_gLl4",
        "outputId": "a0afc8e1-f9d8-4718-fc73-5a1dcd146ca2"
      },
      "execution_count": 24,
      "outputs": [
        {
          "output_type": "stream",
          "name": "stdout",
          "text": [
            "t: tensor([2., 2., 2., 2., 2., 2., 2., 2., 2., 2.])\n",
            "n: [2. 2. 2. 2. 2. 2. 2. 2. 2. 2.]\n"
          ]
        }
      ]
    },
    {
      "cell_type": "code",
      "source": [
        "# NumPy array to Tensor\n",
        "n = np.ones(5)\n",
        "print(f\"n: {n}\")\n",
        "t = torch.from_numpy(n)\n",
        "print(f\"t: {t}\")"
      ],
      "metadata": {
        "colab": {
          "base_uri": "https://localhost:8080/"
        },
        "id": "BuStndZigbK6",
        "outputId": "075bdd8c-aac6-41d4-9a98-d841857c8ec8"
      },
      "execution_count": 25,
      "outputs": [
        {
          "output_type": "stream",
          "name": "stdout",
          "text": [
            "n: [1. 1. 1. 1. 1.]\n",
            "t: tensor([1., 1., 1., 1., 1.], dtype=torch.float64)\n"
          ]
        }
      ]
    },
    {
      "cell_type": "code",
      "source": [
        "# Changes in the NumPy array reflects in the tensor\n",
        "np.add(n, 1, out=n)\n",
        "print(f\"t: {t}\")\n",
        "print(f\"n: {n}\")"
      ],
      "metadata": {
        "colab": {
          "base_uri": "https://localhost:8080/"
        },
        "id": "WXa204RIgyeB",
        "outputId": "6b53b5a6-da66-4943-b8b4-4fc08262cc03"
      },
      "execution_count": 26,
      "outputs": [
        {
          "output_type": "stream",
          "name": "stdout",
          "text": [
            "t: tensor([2., 2., 2., 2., 2.], dtype=torch.float64)\n",
            "n: [2. 2. 2. 2. 2.]\n"
          ]
        }
      ]
    }
  ]
}